{
 "cells": [
  {
   "cell_type": "code",
   "execution_count": 1,
   "metadata": {},
   "outputs": [],
   "source": [
    "import os\n",
    "import cv2\n",
    "import matplotlib.pyplot as plt\n",
    "import numpy as np\n",
    "import pickle\n",
    "\n",
    "labels = {'NORMAL': 0, 'PNEUMONIA': 1}\n",
    "PATH = 'chest_xray'\n",
    "IMG_SIZE = 80"
   ]
  },
  {
   "cell_type": "code",
   "execution_count": 2,
   "metadata": {},
   "outputs": [],
   "source": [
    "def prepareData(dir_):\n",
    "    X = []\n",
    "    y = []\n",
    "    \n",
    "    for category in ['NORMAL', 'PNEUMONIA']:\n",
    "        loc = os.path.join(PATH, dir_, category)\n",
    "        for name in os.listdir(loc):\n",
    "            img = cv2.imread(os.path.join(loc, name), 0)\n",
    "            img = cv2.resize(img, (IMG_SIZE, IMG_SIZE))\n",
    "            X.append(img)\n",
    "            y.append(labels[category])\n",
    "    return X, y"
   ]
  },
  {
   "cell_type": "code",
   "execution_count": null,
   "metadata": {},
   "outputs": [],
   "source": [
    "X, y = prepareData('train')\n",
    "file = open('X_train.pickle', 'wb')\n",
    "pickle.dump([X, y], file)\n",
    "file.close()"
   ]
  },
  {
   "cell_type": "code",
   "execution_count": 3,
   "metadata": {},
   "outputs": [],
   "source": [
    "with open('X_train.pickle', 'rb') as file:\n",
    "    X, y = pickle.load(file)\n",
    "\n",
    "# Feature Scaling\n",
    "X = np.array(X) / 255.0"
   ]
  },
  {
   "cell_type": "code",
   "execution_count": 4,
   "metadata": {},
   "outputs": [],
   "source": [
    "# Shuffling the Dataset\n",
    "from sklearn.utils import shuffle\n",
    "\n",
    "X, y = shuffle(X, y, random_state=4)\n",
    "X = X.reshape(-1, IMG_SIZE, IMG_SIZE, 1)"
   ]
  },
  {
   "cell_type": "code",
   "execution_count": 11,
   "metadata": {},
   "outputs": [
    {
     "name": "stdout",
     "output_type": "stream",
     "text": [
      "Model: \"sequential_3\"\n",
      "_________________________________________________________________\n",
      "Layer (type)                 Output Shape              Param #   \n",
      "=================================================================\n",
      "conv2d_9 (Conv2D)            (None, 78, 78, 64)        640       \n",
      "_________________________________________________________________\n",
      "max_pooling2d_9 (MaxPooling2 (None, 39, 39, 64)        0         \n",
      "_________________________________________________________________\n",
      "dropout_9 (Dropout)          (None, 39, 39, 64)        0         \n",
      "_________________________________________________________________\n",
      "conv2d_10 (Conv2D)           (None, 37, 37, 128)       73856     \n",
      "_________________________________________________________________\n",
      "max_pooling2d_10 (MaxPooling (None, 18, 18, 128)       0         \n",
      "_________________________________________________________________\n",
      "dropout_10 (Dropout)         (None, 18, 18, 128)       0         \n",
      "_________________________________________________________________\n",
      "conv2d_11 (Conv2D)           (None, 16, 16, 32)        36896     \n",
      "_________________________________________________________________\n",
      "max_pooling2d_11 (MaxPooling (None, 8, 8, 32)          0         \n",
      "_________________________________________________________________\n",
      "dropout_11 (Dropout)         (None, 8, 8, 32)          0         \n",
      "_________________________________________________________________\n",
      "flatten_3 (Flatten)          (None, 2048)              0         \n",
      "_________________________________________________________________\n",
      "dense_9 (Dense)              (None, 64)                131136    \n",
      "_________________________________________________________________\n",
      "dense_10 (Dense)             (None, 64)                4160      \n",
      "_________________________________________________________________\n",
      "dense_11 (Dense)             (None, 2)                 130       \n",
      "=================================================================\n",
      "Total params: 246,818\n",
      "Trainable params: 246,818\n",
      "Non-trainable params: 0\n",
      "_________________________________________________________________\n"
     ]
    }
   ],
   "source": [
    "import tensorflow as tf\n",
    "from tensorflow.keras.models import Sequential\n",
    "from tensorflow.keras.layers import Dense, Conv2D, Dropout, Flatten, MaxPooling2D\n",
    "\n",
    "model = Sequential()\n",
    "\n",
    "model.add(Conv2D(64, (3, 3), input_shape=X.shape[1:], activation='relu'))\n",
    "model.add(MaxPooling2D(pool_size=(2, 2)))\n",
    "model.add(Dropout(0.4))\n",
    "\n",
    "model.add(Conv2D(128, (3, 3), activation='relu'))\n",
    "model.add(MaxPooling2D(pool_size=(2, 2)))\n",
    "model.add(Dropout(0.4))\n",
    "\n",
    "model.add(Conv2D(32, (3, 3), activation='relu'))\n",
    "model.add(MaxPooling2D(pool_size=(2, 2)))\n",
    "model.add(Dropout(0.4))\n",
    "\n",
    "model.add(Flatten())\n",
    "model.add(Dense(64, activation='relu'))\n",
    "model.add(Dense(64, activation='relu'))\n",
    "model.add(Dense(2, activation='softmax'))\n",
    "\n",
    "model.compile(loss='sparse_categorical_crossentropy',\n",
    "              optimizer='adam',\n",
    "              metrics=['accuracy'])\n",
    "model.summary()"
   ]
  },
  {
   "cell_type": "code",
   "execution_count": 12,
   "metadata": {},
   "outputs": [
    {
     "name": "stdout",
     "output_type": "stream",
     "text": [
      "Train on 4694 samples, validate on 522 samples\n",
      "Epoch 1/10\n",
      "4694/4694 [==============================] - 61s 13ms/sample - loss: 0.4504 - accuracy: 0.7940 - val_loss: 0.3066 - val_accuracy: 0.9061\n",
      "Epoch 2/10\n",
      "4694/4694 [==============================] - 55s 12ms/sample - loss: 0.2181 - accuracy: 0.9118 - val_loss: 0.1278 - val_accuracy: 0.9540\n",
      "Epoch 3/10\n",
      "4694/4694 [==============================] - 54s 12ms/sample - loss: 0.1775 - accuracy: 0.9320 - val_loss: 0.1275 - val_accuracy: 0.9483\n",
      "Epoch 4/10\n",
      "4694/4694 [==============================] - 62s 13ms/sample - loss: 0.1503 - accuracy: 0.9480 - val_loss: 0.1201 - val_accuracy: 0.9540\n",
      "Epoch 5/10\n",
      "4694/4694 [==============================] - 56s 12ms/sample - loss: 0.1317 - accuracy: 0.9546 - val_loss: 0.1088 - val_accuracy: 0.9559\n",
      "Epoch 6/10\n",
      "4694/4694 [==============================] - 55s 12ms/sample - loss: 0.1212 - accuracy: 0.9546 - val_loss: 0.0858 - val_accuracy: 0.9598\n",
      "Epoch 7/10\n",
      "4694/4694 [==============================] - 54s 12ms/sample - loss: 0.1128 - accuracy: 0.9580 - val_loss: 0.0875 - val_accuracy: 0.9732\n",
      "Epoch 8/10\n",
      "4694/4694 [==============================] - 72s 15ms/sample - loss: 0.0962 - accuracy: 0.9644 - val_loss: 0.0776 - val_accuracy: 0.9713\n",
      "Epoch 9/10\n",
      "4694/4694 [==============================] - 57s 12ms/sample - loss: 0.1070 - accuracy: 0.9595 - val_loss: 0.0771 - val_accuracy: 0.9751\n",
      "Epoch 10/10\n",
      "4694/4694 [==============================] - 56s 12ms/sample - loss: 0.0879 - accuracy: 0.9678 - val_loss: 0.0733 - val_accuracy: 0.9770\n"
     ]
    }
   ],
   "source": [
    "history = model.fit(X, np.array(y), batch_size=32, epochs=10, validation_split=0.1)"
   ]
  },
  {
   "cell_type": "code",
   "execution_count": 13,
   "metadata": {},
   "outputs": [],
   "source": [
    "# Saving the weights of the model\n",
    "model.save_weights('model.h5')"
   ]
  },
  {
   "cell_type": "code",
   "execution_count": 14,
   "metadata": {},
   "outputs": [
    {
     "data": {
      "image/png": "[encoded data removed]",
      "text/plain": [
       "<Figure size 576x576 with 2 Axes>"
      ]
     },
     "metadata": {
      "needs_background": "light"
     },
     "output_type": "display_data"
    }
   ],
   "source": [
    "fig, (ax1, ax2) = plt.subplots(2, 1, figsize=(8, 8))\n",
    "\n",
    "ax1.plot(history.history['loss'], c='r', label='Training Loss')\n",
    "ax1.plot(history.history['val_loss'], c='b', label='Validation Loss')\n",
    "ax1.set_xticks(np.arange(1, 5, 1))\n",
    "\n",
    "ax2.plot(history.history['accuracy'], color='r', label=\"Training accuracy\")\n",
    "ax2.plot(history.history['val_accuracy'], color='b',label=\"Validation accuracy\")\n",
    "ax2.set_xticks(np.arange(1, 5, 1))\n",
    "ax2.set_yticks(np.arange(0, 1, 0.1))\n",
    "\n",
    "legend = plt.legend(loc='best', shadow=True)\n",
    "plt.tight_layout()\n",
    "plt.show()"
   ]
  },
  {
   "cell_type": "code",
   "execution_count": 38,
   "metadata": {},
   "outputs": [],
   "source": [
    "# Preparing data for testing\n",
    "X, y = prepareData('test')\n",
    "file = open('X_test.pickle', 'wb')\n",
    "pickle.dump([X, y], file)\n",
    "file.close()"
   ]
  },
  {
   "cell_type": "code",
   "execution_count": 46,
   "metadata": {},
   "outputs": [],
   "source": [
    "with open('X_test.pickle', 'rb') as file:\n",
    "    X_test, y_test = pickle.load(file)\n",
    "\n",
    "# Feature Scaling\n",
    "X_test = np.array(X_test) / 255.0\n",
    "X_test = X_test.reshape(-1, IMG_SIZE, IMG_SIZE, 1)"
   ]
  },
  {
   "cell_type": "code",
   "execution_count": 47,
   "metadata": {},
   "outputs": [],
   "source": [
    "# Predicting from the trained model\n",
    "predictions = model.predict(X_test)"
   ]
  },
  {
   "cell_type": "code",
   "execution_count": 52,
   "metadata": {},
   "outputs": [
    {
     "name": "stdout",
     "output_type": "stream",
     "text": [
      "Test Accuracy:-  79.8076923076923\n"
     ]
    }
   ],
   "source": [
    "y_pred = [list(row).index(max(list(row))) for row in predictions]\n",
    "print('Test Accuracy:- ', 100.0*(1 - sum(abs(np.array(y_pred) - np.array(y_test))) / len(y_test)))"
   ]
  },
  {
   "cell_type": "code",
   "execution_count": 53,
   "metadata": {},
   "outputs": [],
   "source": [
    "import pandas as pd\n",
    "\n",
    "save = pd.DataFrame()\n",
    "save['Pneumonia'] = np.array(y_pred)\n",
    "save.to_csv('predictions.csv', index=False)"
   ]
  }
 ],
 "metadata": {
  "kernelspec": {
   "display_name": "Python 3",
   "language": "python",
   "name": "python3"
  },
  "language_info": {
   "codemirror_mode": {
    "name": "ipython",
    "version": 3
   },
   "file_extension": ".py",
   "mimetype": "text/x-python",
   "name": "python",
   "nbconvert_exporter": "python",
   "pygments_lexer": "ipython3",
   "version": "3.7.4"
  }
 },
 "nbformat": 4,
 "nbformat_minor": 2
}
